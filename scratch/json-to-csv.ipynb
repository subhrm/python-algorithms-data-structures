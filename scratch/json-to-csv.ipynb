{
 "cells": [
  {
   "cell_type": "code",
   "execution_count": 9,
   "metadata": {},
   "outputs": [],
   "source": [
    "import json\n",
    "import os\n"
   ]
  },
  {
   "cell_type": "code",
   "execution_count": 12,
   "metadata": {},
   "outputs": [
    {
     "name": "stdout",
     "output_type": "stream",
     "text": [
      "['ex1.json', 'ex2.json', 'ex3.json']\n"
     ]
    }
   ],
   "source": [
    "# list json files \n",
    "dir_name= \"data\"\n",
    "json_files = [ \n",
    "    f for f in os.listdir(dir_name) \n",
    "    if f.endswith(\".json\")\n",
    "]\n",
    "print(json_files)"
   ]
  },
  {
   "cell_type": "code",
   "execution_count": 13,
   "metadata": {},
   "outputs": [
    {
     "name": "stdout",
     "output_type": "stream",
     "text": [
      "Processing ex1.json\n",
      "{'a': 10, 'b': 20, 'c': 30}\n",
      "[('a', 10), ('b', 20), ('c', 30)]\n",
      "Processing ex2.json\n",
      "{'a': 100, 'c': 50, 'd': 60, 'e': 150}\n",
      "[('a', 100), ('c', 50), ('d', 60), ('e', 150)]\n",
      "Processing ex3.json\n",
      "{'a': 100, 'c': 50, 'f': 60, 'g': 150, 'h': 0}\n",
      "[('a', 100), ('c', 50), ('f', 60), ('g', 150), ('h', 0)]\n",
      "----------------------------------------\n",
      "[[('a', 10), ('b', 20), ('c', 30)], [('a', 100), ('c', 50), ('d', 60), ('e', 150)], [('a', 100), ('c', 50), ('f', 60), ('g', 150), ('h', 0)]]\n"
     ]
    }
   ],
   "source": [
    "json_data = []\n",
    "\n",
    "for json_file in json_files:\n",
    "    print(f\"Processing {json_file}\")\n",
    "    # generate full path\n",
    "    full_path = os.path.join(dir_name , json_file)\n",
    "    # read json file\n",
    "    with open(full_path) as f:\n",
    "        data = json.load(f)\n",
    "        print(data)\n",
    "        data_as_list = list(data.items())\n",
    "        print(data_as_list)\n",
    "        json_data.append(data_as_list)\n",
    "\n",
    "print(\"--\"*20)\n",
    "print(json_data)"
   ]
  },
  {
   "cell_type": "code",
   "execution_count": 14,
   "metadata": {},
   "outputs": [
    {
     "data": {
      "text/plain": [
       "3"
      ]
     },
     "execution_count": 14,
     "metadata": {},
     "output_type": "execute_result"
    }
   ],
   "source": [
    "len(json_data)"
   ]
  },
  {
   "cell_type": "code",
   "execution_count": 15,
   "metadata": {},
   "outputs": [
    {
     "data": {
      "text/plain": [
       "('a', 10)"
      ]
     },
     "execution_count": 15,
     "metadata": {},
     "output_type": "execute_result"
    }
   ],
   "source": [
    "json_data[0][0][0],json_data[0][0][1]"
   ]
  },
  {
   "cell_type": "code",
   "execution_count": 16,
   "metadata": {},
   "outputs": [
    {
     "name": "stdout",
     "output_type": "stream",
     "text": [
      "['ex1', 'ex2', 'ex3']\n",
      "['ex1-keys', 'ex1-values', 'ex2-keys', 'ex2-values', 'ex3-keys', 'ex3-values']\n"
     ]
    }
   ],
   "source": [
    "output_file = \"data.csv\"\n",
    "\n",
    "file_names = [ f.split(\".\")[0] for f in json_files ]\n",
    "header_names = []\n",
    "for f in file_names:\n",
    "    header_names.append(f+\"-keys\")\n",
    "    header_names.append(f+\"-values\")\n",
    "\n",
    "print(file_names)\n",
    "print(header_names)"
   ]
  },
  {
   "cell_type": "code",
   "execution_count": 20,
   "metadata": {},
   "outputs": [
    {
     "name": "stdout",
     "output_type": "stream",
     "text": [
      "5\n"
     ]
    }
   ],
   "source": [
    "# find max len\n",
    "max_items = max([ len(d) for d in json_data ])\n",
    "print(max_items)"
   ]
  },
  {
   "cell_type": "code",
   "execution_count": 23,
   "metadata": {},
   "outputs": [],
   "source": [
    "output_file = \"data.csv\"\n",
    "with open(output_file, \"w\") as f:\n",
    "    # write header\n",
    "    header_line = \",\".join(header_names)\n",
    "    f.write(header_line + \"\\n\")\n",
    "\n",
    "    for i in range(max_items):\n",
    "        # write a line\n",
    "        line = []\n",
    "        for d in json_data:\n",
    "            if len(d) <= i:\n",
    "                line.append(\" , \")\n",
    "            else:\n",
    "                line.append(f\"{d[i][0]},{d[i][1]}\")\n",
    "        line_str = \",\".join(line)\n",
    "        f.write(line_str+\"\\n\")\n",
    "\n"
   ]
  },
  {
   "cell_type": "code",
   "execution_count": 22,
   "metadata": {},
   "outputs": [
    {
     "data": {
      "text/plain": [
       "'10,20'"
      ]
     },
     "execution_count": 22,
     "metadata": {},
     "output_type": "execute_result"
    }
   ],
   "source": [
    "a = 10\n",
    "b=20\n",
    "\n",
    "f\"{a},{b}\""
   ]
  },
  {
   "cell_type": "code",
   "execution_count": null,
   "metadata": {},
   "outputs": [],
   "source": []
  }
 ],
 "metadata": {
  "interpreter": {
   "hash": "b016cfbda9346f0d8f2b29bdd8c7d0c404a32f3ba755118417372ac19f6870e9"
  },
  "kernelspec": {
   "display_name": "Python 3.9.4 64-bit",
   "language": "python",
   "name": "python3"
  },
  "language_info": {
   "codemirror_mode": {
    "name": "ipython",
    "version": 3
   },
   "file_extension": ".py",
   "mimetype": "text/x-python",
   "name": "python",
   "nbconvert_exporter": "python",
   "pygments_lexer": "ipython3",
   "version": "3.9.4"
  },
  "orig_nbformat": 4
 },
 "nbformat": 4,
 "nbformat_minor": 2
}
