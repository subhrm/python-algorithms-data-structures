{
 "cells": [
  {
   "cell_type": "markdown",
   "metadata": {},
   "source": [
    "LCS : Longest Common Subsequence \n",
    "Given 2 strings, find the longest common subsequence (LCS).\n",
    "\n",
    "LCS is the longest sequence that is common to both strings."
   ]
  },
  {
   "cell_type": "code",
   "execution_count": 4,
   "metadata": {},
   "outputs": [
    {
     "data": {
      "text/plain": [
       "5"
      ]
     },
     "execution_count": 4,
     "metadata": {},
     "output_type": "execute_result"
    }
   ],
   "source": [
    "def longest_common_subsequence(A,B):\n",
    "    la = len(A)\n",
    "    lb= len(B)\n",
    "    global memory \n",
    "    memory = [ [-1 for _ in range(lb+1)] for _ in range(la+1)]  # 2d memory\n",
    "\n",
    "    return lcs_recursive(A,B,0, 0)\n",
    "\n",
    "def lcs_recursive(A,B,x,y):\n",
    "    if x == len(A) or y == len(B):\n",
    "        return 0\n",
    "\n",
    "    if memory[x][y] > -1:\n",
    "        return memory[x][y]\n",
    "\n",
    "    res = 0\n",
    "\n",
    "    if A[x] == B[y]:\n",
    "        res = 1 + lcs_recursive(A,B,x+1,y+1)\n",
    "    else:\n",
    "        res = max(lcs_recursive(A,B,x+1,y), lcs_recursive(A,B,x,y+1))\n",
    "\n",
    "    memory[x][y] = res\n",
    "    return res\n",
    "\n",
    "s1 = \"kolkatakalighat\"\n",
    "s2 = \"batatapakoda\"\n",
    "\n",
    "longest_common_subsequence(s1,s2)\n"
   ]
  },
  {
   "cell_type": "markdown",
   "metadata": {},
   "source": [
    "### How to get that actual result string ??"
   ]
  },
  {
   "cell_type": "code",
   "execution_count": 8,
   "metadata": {},
   "outputs": [
    {
     "data": {
      "text/plain": [
       "'abcdf'"
      ]
     },
     "execution_count": 8,
     "metadata": {},
     "output_type": "execute_result"
    }
   ],
   "source": [
    "def longest_common_subsequence_modified(A,B):\n",
    "    la = len(A)\n",
    "    lb= len(B)\n",
    "    global memory \n",
    "    memory = [ [-1 for _ in range(lb+1)] for _ in range(la+1)]  # 2d memory\n",
    "\n",
    "    length_of_result = lcs_recursive(A,B,0, 0)\n",
    "\n",
    "    result_path = []\n",
    "\n",
    "    i,j = 0,0\n",
    "    while i < len(A) and j < len(B):\n",
    "        if A[i] == B[j]:\n",
    "            result_path.append(A[i])\n",
    "            i += 1\n",
    "            j += 1\n",
    "        else:\n",
    "            r1 = memory[i+1][j]\n",
    "            r2 = memory[i][j+1]\n",
    "            if r1 > r2:\n",
    "                i += 1\n",
    "            else:\n",
    "                j += 1\n",
    "\n",
    "    return \"\".join(result_path)\n",
    "\n",
    "\n",
    "s1 = \"fgffgabcdaf\"\n",
    "s2 = \"mnmnmacbcgggdf\"\n",
    "\n",
    "longest_common_subsequence_modified(s1,s2)"
   ]
  },
  {
   "cell_type": "code",
   "execution_count": null,
   "metadata": {},
   "outputs": [],
   "source": []
  }
 ],
 "metadata": {
  "interpreter": {
   "hash": "b016cfbda9346f0d8f2b29bdd8c7d0c404a32f3ba755118417372ac19f6870e9"
  },
  "kernelspec": {
   "display_name": "Python 3.9.4 64-bit",
   "language": "python",
   "name": "python3"
  },
  "language_info": {
   "codemirror_mode": {
    "name": "ipython",
    "version": 3
   },
   "file_extension": ".py",
   "mimetype": "text/x-python",
   "name": "python",
   "nbconvert_exporter": "python",
   "pygments_lexer": "ipython3",
   "version": "3.9.4"
  },
  "orig_nbformat": 4
 },
 "nbformat": 4,
 "nbformat_minor": 2
}
