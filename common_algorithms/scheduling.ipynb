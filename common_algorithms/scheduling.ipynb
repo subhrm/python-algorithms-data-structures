{
 "cells": [
  {
   "cell_type": "code",
   "execution_count": 17,
   "metadata": {},
   "outputs": [
    {
     "name": "stdout",
     "output_type": "stream",
     "text": [
      "Splitted events before sort  [(7, 0), (11, 1), (9.5, 0), (10.75, 1), (10, 0), (11.25, 1), (11.5, 0), (13, 1), (12.5, 0), (14.5, 1), (5, 0), (12, 1)]\n",
      "Splitted events after sort  [(5, 0), (7, 0), (9.5, 0), (10, 0), (10.75, 1), (11, 1), (11.25, 1), (11.5, 0), (12, 1), (12.5, 0), (13, 1), (14.5, 1)]\n",
      "Maximum parallel events :  4\n"
     ]
    }
   ],
   "source": [
    "events = [ (7,11), (9.5, 10.75), (10,11.25), (11.5,13), (12.5,14.5), (5,12) ]\n",
    "\n",
    "events_split = [] \n",
    "for ev in events:\n",
    "    st, end = ev\n",
    "    events_split.append((st, 0))  # Event_type = 0 for start event\n",
    "    events_split.append((end, 1)) # Event_type = 1 for end event\n",
    "\n",
    "print(\"Splitted events before sort \" , events_split)\n",
    "\n",
    "events_split.sort(key= lambda x:x[0]) # sort by TIME\n",
    "\n",
    "print(\"Splitted events after sort \" , events_split)\n",
    "\n",
    "max_parallel = 0\n",
    "current_count = 0\n",
    "\n",
    "for t, ev_type in events_split:\n",
    "    if ev_type == 0:\n",
    "        current_count += 1\n",
    "    else:\n",
    "        current_count -= 1\n",
    "\n",
    "    max_parallel = max(max_parallel, current_count)\n",
    "    # print(ev_type, current_count, max_parallel)\n",
    "  \n",
    "\n",
    "print(\"Maximum parallel events : \", max_parallel)"
   ]
  },
  {
   "cell_type": "code",
   "execution_count": null,
   "metadata": {},
   "outputs": [],
   "source": []
  }
 ],
 "metadata": {
  "interpreter": {
   "hash": "b016cfbda9346f0d8f2b29bdd8c7d0c404a32f3ba755118417372ac19f6870e9"
  },
  "kernelspec": {
   "display_name": "Python 3.9.4 64-bit",
   "language": "python",
   "name": "python3"
  },
  "language_info": {
   "codemirror_mode": {
    "name": "ipython",
    "version": 3
   },
   "file_extension": ".py",
   "mimetype": "text/x-python",
   "name": "python",
   "nbconvert_exporter": "python",
   "pygments_lexer": "ipython3",
   "version": "3.9.4"
  },
  "orig_nbformat": 4
 },
 "nbformat": 4,
 "nbformat_minor": 2
}
