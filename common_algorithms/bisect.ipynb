{
 "cells": [
  {
   "cell_type": "code",
   "execution_count": 28,
   "metadata": {},
   "outputs": [],
   "source": [
    "## Calculate nth root of M\n",
    "\n",
    "def nth_root(n, M, delta=1e-12):\n",
    "    left, right = 1,M\n",
    "    mid = (left+right)/2\n",
    "    i = 1\n",
    "    while abs(mid**n - M ) > delta:\n",
    "        if mid**n < M:\n",
    "            left = mid\n",
    "        else:\n",
    "            right = mid\n",
    "\n",
    "        i += 1\n",
    "        # new middle point\n",
    "        mid = (left+right)/2\n",
    "        # print(f\"After {i}th iteration left:{left:.9f}  right:{right:.9f} mid:{mid:.9f}\")\n",
    "\n",
    "    return mid"
   ]
  },
  {
   "cell_type": "code",
   "execution_count": 29,
   "metadata": {},
   "outputs": [
    {
     "data": {
      "text/plain": [
       "1.882960166324084"
      ]
     },
     "execution_count": 29,
     "metadata": {},
     "output_type": "execute_result"
    }
   ],
   "source": [
    "nth_root(11,1055)"
   ]
  },
  {
   "cell_type": "code",
   "execution_count": 30,
   "metadata": {},
   "outputs": [
    {
     "data": {
      "text/plain": [
       "1054.999999999999"
      ]
     },
     "execution_count": 30,
     "metadata": {},
     "output_type": "execute_result"
    }
   ],
   "source": [
    "1.882960166324084**11"
   ]
  },
  {
   "cell_type": "code",
   "execution_count": 31,
   "metadata": {},
   "outputs": [],
   "source": [
    "import bisect"
   ]
  },
  {
   "cell_type": "code",
   "execution_count": 36,
   "metadata": {},
   "outputs": [],
   "source": [
    "arr = [1,2,5,7,8,11,14,16]"
   ]
  },
  {
   "cell_type": "code",
   "execution_count": 47,
   "metadata": {},
   "outputs": [
    {
     "name": "stdout",
     "output_type": "stream",
     "text": [
      "left:0 right:7 mid:3\n",
      "left:0 right:2 mid:1\n",
      "left:2 right:2 mid:2\n"
     ]
    },
    {
     "data": {
      "text/plain": [
       "False"
      ]
     },
     "execution_count": 47,
     "metadata": {},
     "output_type": "execute_result"
    }
   ],
   "source": [
    "def binary_search(arr, target):\n",
    "    l = len(arr)\n",
    "    left, right = 0, l-1\n",
    "    mid = (left + right)//2\n",
    "\n",
    "    while True:\n",
    "        print(f\"left:{left} right:{right} mid:{mid}\")\n",
    "        if arr[mid] == target:\n",
    "            return True\n",
    "        elif left >= right:\n",
    "            return False\n",
    "        elif arr[mid] > target:\n",
    "            right = mid - 1\n",
    "        else:\n",
    "            left = mid + 1\n",
    "\n",
    "        mid = (left + right)//2\n",
    "\n",
    "binary_search(arr, 6)"
   ]
  },
  {
   "cell_type": "code",
   "execution_count": 48,
   "metadata": {},
   "outputs": [
    {
     "name": "stdout",
     "output_type": "stream",
     "text": [
      "left:0 right:7 mid:3\n",
      "left:4 right:7 mid:5\n",
      "left:6 right:7 mid:6\n"
     ]
    },
    {
     "data": {
      "text/plain": [
       "True"
      ]
     },
     "execution_count": 48,
     "metadata": {},
     "output_type": "execute_result"
    }
   ],
   "source": [
    "\n",
    "binary_search(arr, 14)"
   ]
  },
  {
   "cell_type": "code",
   "execution_count": null,
   "metadata": {},
   "outputs": [],
   "source": []
  }
 ],
 "metadata": {
  "interpreter": {
   "hash": "b016cfbda9346f0d8f2b29bdd8c7d0c404a32f3ba755118417372ac19f6870e9"
  },
  "kernelspec": {
   "display_name": "Python 3.9.4 64-bit",
   "language": "python",
   "name": "python3"
  },
  "language_info": {
   "codemirror_mode": {
    "name": "ipython",
    "version": 3
   },
   "file_extension": ".py",
   "mimetype": "text/x-python",
   "name": "python",
   "nbconvert_exporter": "python",
   "pygments_lexer": "ipython3",
   "version": "3.9.4"
  },
  "orig_nbformat": 4
 },
 "nbformat": 4,
 "nbformat_minor": 2
}
