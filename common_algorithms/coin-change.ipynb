{
 "cells": [
  {
   "cell_type": "code",
   "execution_count": 2,
   "metadata": {},
   "outputs": [
    {
     "data": {
      "text/plain": [
       "3"
      ]
     },
     "execution_count": 2,
     "metadata": {},
     "output_type": "execute_result"
    }
   ],
   "source": [
    "def coin_change(coins, target):\n",
    "    \"\"\"\n",
    "    Given a list of coins and a target amount, find the minimum number of coins needed to make the change.\n",
    "    \"\"\"\n",
    "\n",
    "    global memory\n",
    "    memory = {}\n",
    "    return ch(coins, target)\n",
    "\n",
    "\n",
    "def ch(coins, target):\n",
    "    global memory\n",
    "    if target in memory:\n",
    "        return memory[target]\n",
    "    if target == 0:\n",
    "        return 0\n",
    "\n",
    "    res = target   # if we use \"1 value\" coin , max target coins needed\n",
    "    for coin in coins:\n",
    "        if coin <= target:\n",
    "            new_target = target - coin\n",
    "            r = 1 + ch(coins, new_target)\n",
    "            if r < res:\n",
    "                res = r\n",
    "\n",
    "    memory[target] = res\n",
    "    return res\n",
    "\n",
    "coin_change([1,5,8,10], 17)"
   ]
  },
  {
   "cell_type": "code",
   "execution_count": 3,
   "metadata": {},
   "outputs": [
    {
     "data": {
      "text/plain": [
       "{1: 1,\n",
       " 2: 2,\n",
       " 3: 3,\n",
       " 4: 4,\n",
       " 5: 1,\n",
       " 6: 2,\n",
       " 7: 3,\n",
       " 8: 1,\n",
       " 9: 2,\n",
       " 10: 1,\n",
       " 11: 2,\n",
       " 12: 3,\n",
       " 13: 2,\n",
       " 14: 3,\n",
       " 15: 2,\n",
       " 16: 2,\n",
       " 17: 3}"
      ]
     },
     "execution_count": 3,
     "metadata": {},
     "output_type": "execute_result"
    }
   ],
   "source": [
    "memory"
   ]
  },
  {
   "cell_type": "markdown",
   "metadata": {},
   "source": [
    "### How to get the exact set of coins that sum to target?"
   ]
  },
  {
   "cell_type": "code",
   "execution_count": 6,
   "metadata": {},
   "outputs": [
    {
     "data": {
      "text/plain": [
       "(3, [1, 8, 8])"
      ]
     },
     "execution_count": 6,
     "metadata": {},
     "output_type": "execute_result"
    }
   ],
   "source": [
    "def coin_change(coins, target):\n",
    "    \"\"\"\n",
    "    Given a list of coins and a target amount, find the minimum number of coins needed to make the change.\n",
    "    \"\"\"\n",
    "\n",
    "    global memory\n",
    "    memory = {}\n",
    "    res = ch(coins, target)\n",
    "    solution_path = []\n",
    "    while target != 0:\n",
    "        coin_that_gave_min_res = memory[target][1]\n",
    "        solution_path.append(coin_that_gave_min_res)\n",
    "        target -= coin_that_gave_min_res\n",
    "\n",
    "    return res, solution_path\n",
    "\n",
    "\n",
    "def ch(coins, target):\n",
    "    global memory\n",
    "    if target in memory:\n",
    "        return memory[target][0]  # return the number of coins needed, remember we are now storing a tuple in memory\n",
    "\n",
    "    if target == 0:\n",
    "        return 0\n",
    "\n",
    "    coin_that_gave_min_res = 1\n",
    "    res = target   # if we use \"1 value\" coin , max target coins needed\n",
    "    \n",
    "    for coin in coins:\n",
    "        if coin <= target:\n",
    "            new_target = target - coin\n",
    "            r = 1 + ch(coins, new_target)\n",
    "            if r < res:\n",
    "                coin_that_gave_min_res = coin\n",
    "                res = r\n",
    "\n",
    "    memory[target] = (res, coin_that_gave_min_res)\n",
    "    return res\n",
    "\n",
    "coin_change([1,5,8,10], 17)"
   ]
  },
  {
   "cell_type": "code",
   "execution_count": 5,
   "metadata": {},
   "outputs": [
    {
     "data": {
      "text/plain": [
       "{1: (1, 1),\n",
       " 2: (2, 1),\n",
       " 3: (3, 1),\n",
       " 4: (4, 1),\n",
       " 5: (1, 5),\n",
       " 6: (2, 1),\n",
       " 7: (3, 1),\n",
       " 8: (1, 8),\n",
       " 9: (2, 1),\n",
       " 10: (1, 10),\n",
       " 11: (2, 1),\n",
       " 12: (3, 1),\n",
       " 13: (2, 5),\n",
       " 14: (3, 1),\n",
       " 15: (2, 5),\n",
       " 16: (2, 8),\n",
       " 17: (3, 1)}"
      ]
     },
     "execution_count": 5,
     "metadata": {},
     "output_type": "execute_result"
    }
   ],
   "source": [
    "memory"
   ]
  },
  {
   "cell_type": "code",
   "execution_count": null,
   "metadata": {},
   "outputs": [],
   "source": []
  }
 ],
 "metadata": {
  "interpreter": {
   "hash": "b016cfbda9346f0d8f2b29bdd8c7d0c404a32f3ba755118417372ac19f6870e9"
  },
  "kernelspec": {
   "display_name": "Python 3.9.4 64-bit",
   "language": "python",
   "name": "python3"
  },
  "language_info": {
   "codemirror_mode": {
    "name": "ipython",
    "version": 3
   },
   "file_extension": ".py",
   "mimetype": "text/x-python",
   "name": "python",
   "nbconvert_exporter": "python",
   "pygments_lexer": "ipython3",
   "version": "3.9.4"
  },
  "orig_nbformat": 4
 },
 "nbformat": 4,
 "nbformat_minor": 2
}
